{
 "cells": [
  {
   "cell_type": "markdown",
   "metadata": {},
   "source": [
    "## Problem 1"
   ]
  },
  {
   "cell_type": "code",
   "execution_count": 13,
   "metadata": {},
   "outputs": [
    {
     "data": {
      "text/plain": [
       "[1, 'a', 'cat', 2, 3, 'dog', 4, 5]"
      ]
     },
     "execution_count": 13,
     "metadata": {},
     "output_type": "execute_result"
    }
   ],
   "source": [
    "input_= [[1,'a',['cat'],2],[[[3]],'dog'],4,5]\n",
    "result=[]\n",
    "def function_(input_):\n",
    "    for i in input_:\n",
    "        if(type(i) != list):\n",
    "            result.append(i)\n",
    "        else:\n",
    "            function_(i)\n",
    "function_(input_)\n",
    "result"
   ]
  },
  {
   "cell_type": "markdown",
   "metadata": {},
   "source": [
    "## Problem 2"
   ]
  },
  {
   "cell_type": "code",
   "execution_count": 157,
   "metadata": {},
   "outputs": [
    {
     "data": {
      "text/plain": [
       "[[1, 2], [3, 4], [5, 6, 7, [2, 3, 4]]]"
      ]
     },
     "execution_count": 157,
     "metadata": {},
     "output_type": "execute_result"
    }
   ],
   "source": [
    "input_=[[1, 2], [3, 4], [5, 6, 7,[2,3,4]]]\n",
    "input_"
   ]
  },
  {
   "cell_type": "code",
   "execution_count": 156,
   "metadata": {},
   "outputs": [
    {
     "name": "stdout",
     "output_type": "stream",
     "text": [
      "[[5, 6, 7, [2, 3, 4]], [3, 4], [2, 1]]\n"
     ]
    }
   ],
   "source": [
    "def function_(input_):\n",
    "    input_.reverse()\n",
    "    for i in input_:\n",
    "        if(type(i) != list):\n",
    "            None\n",
    "        else:\n",
    "            function_(i)\n",
    "    return input_\n",
    "print(function_(input_))"
   ]
  },
  {
   "cell_type": "code",
   "execution_count": 126,
   "metadata": {},
   "outputs": [
    {
     "data": {
      "text/plain": [
       "[[1, 2], [3, 4], [5, 6, 7, [2, 3, 4]]]"
      ]
     },
     "execution_count": 126,
     "metadata": {},
     "output_type": "execute_result"
    }
   ],
   "source": [
    "input_"
   ]
  },
  {
   "cell_type": "code",
   "execution_count": 135,
   "metadata": {},
   "outputs": [
    {
     "data": {
      "text/plain": [
       "[[5, 6, 7, [2, 3, 4]], [3, 4], [1, 2]]"
      ]
     },
     "execution_count": 135,
     "metadata": {},
     "output_type": "execute_result"
    }
   ],
   "source": [
    "def function_(input_):\n",
    "    input_.reverse()\n",
    "function_(input_)\n",
    "input_"
   ]
  },
  {
   "cell_type": "code",
   "execution_count": 136,
   "metadata": {},
   "outputs": [
    {
     "data": {
      "text/plain": [
       "[[1, 2], [3, 4], [5, 6, 7, [2, 3, 4]]]"
      ]
     },
     "execution_count": 136,
     "metadata": {},
     "output_type": "execute_result"
    }
   ],
   "source": [
    "#normal haline çevirmek için tekrar ters çevir\n",
    "function_(input_)\n",
    "input_"
   ]
  },
  {
   "cell_type": "code",
   "execution_count": 144,
   "metadata": {},
   "outputs": [
    {
     "data": {
      "text/plain": [
       "[[2, 1], [3, 4], [5, 6, 7, [2, 3, 4]]]"
      ]
     },
     "execution_count": 144,
     "metadata": {},
     "output_type": "execute_result"
    }
   ],
   "source": [
    "def function_(input_):\n",
    "    input_[0].reverse()\n",
    "function_(input_)\n",
    "input_"
   ]
  },
  {
   "cell_type": "code",
   "execution_count": 155,
   "metadata": {},
   "outputs": [
    {
     "name": "stdout",
     "output_type": "stream",
     "text": [
      "[1, 2]\n",
      "[4, 3]\n",
      "[[2, 3, 4], 7, 6, 5]\n",
      "[4, 3, 2]\n",
      "[[2, 1], [3, 4], [5, 6, 7, [2, 3, 4]]]\n"
     ]
    }
   ],
   "source": [
    "def function_(input_):\n",
    "    input_.reverse()\n",
    "    for i in input_:\n",
    "        if(type(i) != list):\n",
    "            None\n",
    "        else:\n",
    "            i.reverse()\n",
    "            print(i)\n",
    "            function_(i)\n",
    "    return input_\n",
    "print(function_(input_))"
   ]
  },
  {
   "cell_type": "code",
   "execution_count": null,
   "metadata": {},
   "outputs": [],
   "source": []
  }
 ],
 "metadata": {
  "kernelspec": {
   "display_name": "Python 3",
   "language": "python",
   "name": "python3"
  },
  "language_info": {
   "codemirror_mode": {
    "name": "ipython",
    "version": 3
   },
   "file_extension": ".py",
   "mimetype": "text/x-python",
   "name": "python",
   "nbconvert_exporter": "python",
   "pygments_lexer": "ipython3",
   "version": "3.7.6"
  }
 },
 "nbformat": 4,
 "nbformat_minor": 4
}
